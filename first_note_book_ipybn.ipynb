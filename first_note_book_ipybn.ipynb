{
  "nbformat": 4,
  "nbformat_minor": 0,
  "metadata": {
    "colab": {
      "name": "first note book.ipybn",
      "provenance": [],
      "authorship_tag": "ABX9TyOE0BrxyqjbXVyn8//nQRjO",
      "include_colab_link": true
    },
    "kernelspec": {
      "name": "python3",
      "display_name": "Python 3"
    },
    "language_info": {
      "name": "python"
    }
  },
  "cells": [
    {
      "cell_type": "markdown",
      "metadata": {
        "id": "view-in-github",
        "colab_type": "text"
      },
      "source": [
        "<a href=\"https://colab.research.google.com/github/Afridsmd/BASICML/blob/main/first_note_book_ipybn.ipynb\" target=\"_parent\"><img src=\"https://colab.research.google.com/assets/colab-badge.svg\" alt=\"Open In Colab\"/></a>"
      ]
    },
    {
      "cell_type": "markdown",
      "metadata": {
        "id": "vgcvb-MUNfar"
      },
      "source": [
        "FIRST NOTE BOOK"
      ]
    },
    {
      "cell_type": "code",
      "metadata": {
        "colab": {
          "base_uri": "https://localhost:8080/"
        },
        "id": "zcjJsTl7NjRg",
        "outputId": "0e523def-e14e-4b57-8ef0-f9800c1020bd"
      },
      "source": [
        "print(\"Hello World\")"
      ],
      "execution_count": null,
      "outputs": [
        {
          "output_type": "stream",
          "text": [
            "Hello World\n"
          ],
          "name": "stdout"
        }
      ]
    },
    {
      "cell_type": "markdown",
      "metadata": {
        "id": "tpz8j-F-Rlc0"
      },
      "source": [
        "EVEN OR ODD"
      ]
    },
    {
      "cell_type": "code",
      "metadata": {
        "colab": {
          "base_uri": "https://localhost:8080/"
        },
        "id": "VrPIPHXSPDBO",
        "outputId": "70894ec9-d62a-4a85-f324-287fbb343b40"
      },
      "source": [
        "x=45\n",
        "if (x%2==0):\n",
        "   print(\"even\")\n",
        "else:\n",
        "   print(\"odd\")"
      ],
      "execution_count": null,
      "outputs": [
        {
          "output_type": "stream",
          "text": [
            "odd\n"
          ],
          "name": "stdout"
        }
      ]
    },
    {
      "cell_type": "markdown",
      "metadata": {
        "id": "hy-u2iK2RfXU"
      },
      "source": [
        "SWAPPING TWO INTEGERS"
      ]
    },
    {
      "cell_type": "code",
      "metadata": {
        "id": "rHeurFDUP2w4"
      },
      "source": [
        "a=30\n",
        "b=20\n",
        "a=a+b\n",
        "b=a-b\n",
        "a=a-b"
      ],
      "execution_count": null,
      "outputs": []
    },
    {
      "cell_type": "code",
      "metadata": {
        "colab": {
          "base_uri": "https://localhost:8080/"
        },
        "id": "95_kWfpvRFm1",
        "outputId": "a723dbbf-c186-4507-a787-7c2a45a62afa"
      },
      "source": [
        "print(a)\n",
        "print(b)"
      ],
      "execution_count": null,
      "outputs": [
        {
          "output_type": "stream",
          "text": [
            "20\n",
            "30\n"
          ],
          "name": "stdout"
        }
      ]
    }
  ]
}